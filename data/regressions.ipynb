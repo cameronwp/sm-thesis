{
 "cells": [
  {
   "cell_type": "code",
   "execution_count": 142,
   "metadata": {},
   "outputs": [],
   "source": [
    "import numpy as np\n",
    "import matplotlib.pyplot as plt\n",
    "from matplotlib import rcParams\n",
    "import pandas as pd \n",
    "from scipy.optimize import curve_fit\n",
    "from sklearn.linear_model import LinearRegression\n",
    "from sklearn.preprocessing import PolynomialFeatures\n",
    "from sklearn.metrics import mean_squared_error\n",
    "from sklearn.metrics import r2_score\n",
    "\n",
    "rcParams['font.family'] = 'serif'\n",
    "# rcParams['font.sans-serif'] = ['Tahoma']"
   ]
  },
  {
   "cell_type": "code",
   "execution_count": 183,
   "metadata": {},
   "outputs": [
    {
     "data": {
      "text/html": [
       "<div>\n",
       "<style scoped>\n",
       "    .dataframe tbody tr th:only-of-type {\n",
       "        vertical-align: middle;\n",
       "    }\n",
       "\n",
       "    .dataframe tbody tr th {\n",
       "        vertical-align: top;\n",
       "    }\n",
       "\n",
       "    .dataframe thead th {\n",
       "        text-align: right;\n",
       "    }\n",
       "</style>\n",
       "<table border=\"1\" class=\"dataframe\">\n",
       "  <thead>\n",
       "    <tr style=\"text-align: right;\">\n",
       "      <th></th>\n",
       "      <th>N</th>\n",
       "      <th>K</th>\n",
       "      <th>Samples</th>\n",
       "      <th>Avg Runtime</th>\n",
       "      <th>Max Runtime</th>\n",
       "      <th>Total Runtime</th>\n",
       "      <th>Std Dev</th>\n",
       "      <th>Makespan</th>\n",
       "      <th>I</th>\n",
       "      <th>J</th>\n",
       "    </tr>\n",
       "  </thead>\n",
       "  <tbody>\n",
       "    <tr>\n",
       "      <th>2</th>\n",
       "      <td>13</td>\n",
       "      <td>2</td>\n",
       "      <td>66</td>\n",
       "      <td>0.114577</td>\n",
       "      <td>0.366189</td>\n",
       "      <td>7.562064</td>\n",
       "      <td>0.065129</td>\n",
       "      <td>33</td>\n",
       "      <td>1</td>\n",
       "      <td>1</td>\n",
       "    </tr>\n",
       "    <tr>\n",
       "      <th>5</th>\n",
       "      <td>21</td>\n",
       "      <td>4</td>\n",
       "      <td>114</td>\n",
       "      <td>0.137124</td>\n",
       "      <td>2.166101</td>\n",
       "      <td>15.632128</td>\n",
       "      <td>0.202408</td>\n",
       "      <td>57</td>\n",
       "      <td>2</td>\n",
       "      <td>1</td>\n",
       "    </tr>\n",
       "    <tr>\n",
       "      <th>0</th>\n",
       "      <td>23</td>\n",
       "      <td>4</td>\n",
       "      <td>40</td>\n",
       "      <td>0.112642</td>\n",
       "      <td>0.233997</td>\n",
       "      <td>4.505692</td>\n",
       "      <td>0.056521</td>\n",
       "      <td>20</td>\n",
       "      <td>1</td>\n",
       "      <td>2</td>\n",
       "    </tr>\n",
       "    <tr>\n",
       "      <th>11</th>\n",
       "      <td>29</td>\n",
       "      <td>6</td>\n",
       "      <td>216</td>\n",
       "      <td>0.121403</td>\n",
       "      <td>0.345103</td>\n",
       "      <td>26.223007</td>\n",
       "      <td>0.056254</td>\n",
       "      <td>108</td>\n",
       "      <td>3</td>\n",
       "      <td>1</td>\n",
       "    </tr>\n",
       "    <tr>\n",
       "      <th>1</th>\n",
       "      <td>33</td>\n",
       "      <td>6</td>\n",
       "      <td>52</td>\n",
       "      <td>0.135434</td>\n",
       "      <td>0.295223</td>\n",
       "      <td>7.042546</td>\n",
       "      <td>0.067517</td>\n",
       "      <td>26</td>\n",
       "      <td>1</td>\n",
       "      <td>3</td>\n",
       "    </tr>\n",
       "  </tbody>\n",
       "</table>\n",
       "</div>"
      ],
      "text/plain": [
       "     N  K  Samples  Avg Runtime  Max Runtime  Total Runtime   Std Dev  \\\n",
       "2   13  2       66     0.114577     0.366189       7.562064  0.065129   \n",
       "5   21  4      114     0.137124     2.166101      15.632128  0.202408   \n",
       "0   23  4       40     0.112642     0.233997       4.505692  0.056521   \n",
       "11  29  6      216     0.121403     0.345103      26.223007  0.056254   \n",
       "1   33  6       52     0.135434     0.295223       7.042546  0.067517   \n",
       "\n",
       "    Makespan  I  J  \n",
       "2         33  1  1  \n",
       "5         57  2  1  \n",
       "0         20  1  2  \n",
       "11       108  3  1  \n",
       "1         26  1  3  "
      ]
     },
     "execution_count": 183,
     "metadata": {},
     "output_type": "execute_result"
    }
   ],
   "source": [
    "data = pd.read_csv('tick-aggregate.csv')\n",
    "data = data.sort_values(by=['N'])\n",
    "x = data.iloc[:, 0].values.reshape(-1, 1)\n",
    "y = data.iloc[:, 5].values.reshape(-1, 1)  # -1 means that calculate the dimension of rows, but have 1 column\n",
    "e = data.iloc[:, 6].values.reshape(-1, 1)  # error\n",
    "\n",
    "data.head()"
   ]
  },
  {
   "cell_type": "code",
   "execution_count": 184,
   "metadata": {},
   "outputs": [
    {
     "data": {
      "image/png": "[encoded data removed]",
      "text/plain": [
       "<Figure size 640x480 with 1 Axes>"
      ]
     },
     "metadata": {},
     "output_type": "display_data"
    }
   ],
   "source": [
    "plt.scatter(x, y)\n",
    "# plt.plot(x, y, 'b-', label='data')\n",
    "\n",
    "def pred_n(x, a):\n",
    "  return a * x\n",
    "\n",
    "def pred_n2(x, a):\n",
    "  return a * x**2\n",
    "\n",
    "def pred_n3(x, a):\n",
    "  return a * x**3\n",
    "\n",
    "def pred_n4(x, a):\n",
    "  return a * x**4\n",
    "\n",
    "# (1/4) N (N + 1)^2\n",
    "def pred_avg_of_n3(x, a):\n",
    "  return a * x * (x + 1)**2\n",
    "\n",
    "# (1/6) (N + 1) (2N + 1)\n",
    "def pred_avg_of_n2(x, a):\n",
    "  return a * (x + 1) * (2 * x + 1)\n",
    "\n",
    "def pred_n_log_n(x, a):\n",
    "  return a * x * np.log(x)\n",
    "\n",
    "def pred_n2_log_n(x, a):\n",
    "  return a * x**2 * np.log(x)\n",
    "\n",
    "popt, pcov = curve_fit(pred_n2_log_n, x.transpose()[0], y.transpose()[0])\n",
    "coefficient_of_dermination = r2_score(y, pred_n2_log_n(x.transpose()[0], *popt))\n",
    "\n",
    "# plt.plot(x.transpose()[0], pred_n2_log_n(x.transpose()[0], *popt), 'r-', label='$N^2 \\log N,~R^2: %.4f$' % coefficient_of_dermination)\n",
    "plt.plot(x.transpose()[0], pred_n2_log_n(x.transpose()[0], *popt), 'r-', label='$N^2 \\log N,~R^2: %.4f$' % coefficient_of_dermination)\n",
    "# plt.errorbar(x.transpose()[0], y.transpose()[0], e.transpose()[0], linestyle='None')\n",
    "\n",
    "plt.xlabel('N')\n",
    "# plt.ylabel('Total Runtime (s)')\n",
    "plt.ylabel('Average Runtime (s)')\n",
    "plt.legend()\n",
    "# plt.savefig(\"../images/scheduling-total-runtime.png\", dpi=300, bbox_inches=\"tight\")\n",
    "plt.savefig(\"../images/tick-total-runtime.png\", dpi=300, bbox_inches=\"tight\")\n",
    "plt.show()"
   ]
  },
  {
   "cell_type": "code",
   "execution_count": 126,
   "metadata": {},
   "outputs": [
    {
     "data": {
      "text/plain": [
       "0.8644937949655267"
      ]
     },
     "execution_count": 126,
     "metadata": {},
     "output_type": "execute_result"
    }
   ],
   "source": [
    "\n",
    "coefficient_of_dermination"
   ]
  },
  {
   "cell_type": "code",
   "execution_count": 95,
   "metadata": {},
   "outputs": [],
   "source": [
    "poly = PolynomialFeatures(degree=3, include_bias=False)\n",
    "poly_features = poly.fit_transform(x.reshape(-1, 1))\n",
    "\n",
    "linear_regressor = LinearRegression()\n",
    "linear_regressor.fit(poly_features, y)\n",
    "# linear_regressor.fit(x, y)  # perform linear regression\n",
    "y_pred = linear_regressor.predict(poly_features)  # make predictions"
   ]
  },
  {
   "cell_type": "code",
   "execution_count": 96,
   "metadata": {},
   "outputs": [
    {
     "data": {
      "image/png": "[encoded data removed]",
      "text/plain": [
       "<Figure size 640x480 with 1 Axes>"
      ]
     },
     "metadata": {},
     "output_type": "display_data"
    }
   ],
   "source": [
    "plt.scatter(x, y)\n",
    "plt.xlabel(\"N\")\n",
    "plt.ylabel(\"Runtime (s)\")\n",
    "# plt.plot(x, y_pred, color='red')\n",
    "plt.show()"
   ]
  },
  {
   "cell_type": "code",
   "execution_count": 97,
   "metadata": {},
   "outputs": [
    {
     "data": {
      "text/html": [
       "<style>#sk-container-id-4 {color: black;}#sk-container-id-4 pre{padding: 0;}#sk-container-id-4 div.sk-toggleable {background-color: white;}#sk-container-id-4 label.sk-toggleable__label {cursor: pointer;display: block;width: 100%;margin-bottom: 0;padding: 0.3em;box-sizing: border-box;text-align: center;}#sk-container-id-4 label.sk-toggleable__label-arrow:before {content: \"▸\";float: left;margin-right: 0.25em;color: #696969;}#sk-container-id-4 label.sk-toggleable__label-arrow:hover:before {color: black;}#sk-container-id-4 div.sk-estimator:hover label.sk-toggleable__label-arrow:before {color: black;}#sk-container-id-4 div.sk-toggleable__content {max-height: 0;max-width: 0;overflow: hidden;text-align: left;background-color: #f0f8ff;}#sk-container-id-4 div.sk-toggleable__content pre {margin: 0.2em;color: black;border-radius: 0.25em;background-color: #f0f8ff;}#sk-container-id-4 input.sk-toggleable__control:checked~div.sk-toggleable__content {max-height: 200px;max-width: 100%;overflow: auto;}#sk-container-id-4 input.sk-toggleable__control:checked~label.sk-toggleable__label-arrow:before {content: \"▾\";}#sk-container-id-4 div.sk-estimator input.sk-toggleable__control:checked~label.sk-toggleable__label {background-color: #d4ebff;}#sk-container-id-4 div.sk-label input.sk-toggleable__control:checked~label.sk-toggleable__label {background-color: #d4ebff;}#sk-container-id-4 input.sk-hidden--visually {border: 0;clip: rect(1px 1px 1px 1px);clip: rect(1px, 1px, 1px, 1px);height: 1px;margin: -1px;overflow: hidden;padding: 0;position: absolute;width: 1px;}#sk-container-id-4 div.sk-estimator {font-family: monospace;background-color: #f0f8ff;border: 1px dotted black;border-radius: 0.25em;box-sizing: border-box;margin-bottom: 0.5em;}#sk-container-id-4 div.sk-estimator:hover {background-color: #d4ebff;}#sk-container-id-4 div.sk-parallel-item::after {content: \"\";width: 100%;border-bottom: 1px solid gray;flex-grow: 1;}#sk-container-id-4 div.sk-label:hover label.sk-toggleable__label {background-color: #d4ebff;}#sk-container-id-4 div.sk-serial::before {content: \"\";position: absolute;border-left: 1px solid gray;box-sizing: border-box;top: 0;bottom: 0;left: 50%;z-index: 0;}#sk-container-id-4 div.sk-serial {display: flex;flex-direction: column;align-items: center;background-color: white;padding-right: 0.2em;padding-left: 0.2em;position: relative;}#sk-container-id-4 div.sk-item {position: relative;z-index: 1;}#sk-container-id-4 div.sk-parallel {display: flex;align-items: stretch;justify-content: center;background-color: white;position: relative;}#sk-container-id-4 div.sk-item::before, #sk-container-id-4 div.sk-parallel-item::before {content: \"\";position: absolute;border-left: 1px solid gray;box-sizing: border-box;top: 0;bottom: 0;left: 50%;z-index: -1;}#sk-container-id-4 div.sk-parallel-item {display: flex;flex-direction: column;z-index: 1;position: relative;background-color: white;}#sk-container-id-4 div.sk-parallel-item:first-child::after {align-self: flex-end;width: 50%;}#sk-container-id-4 div.sk-parallel-item:last-child::after {align-self: flex-start;width: 50%;}#sk-container-id-4 div.sk-parallel-item:only-child::after {width: 0;}#sk-container-id-4 div.sk-dashed-wrapped {border: 1px dashed gray;margin: 0 0.4em 0.5em 0.4em;box-sizing: border-box;padding-bottom: 0.4em;background-color: white;}#sk-container-id-4 div.sk-label label {font-family: monospace;font-weight: bold;display: inline-block;line-height: 1.2em;}#sk-container-id-4 div.sk-label-container {text-align: center;}#sk-container-id-4 div.sk-container {/* jupyter's `normalize.less` sets `[hidden] { display: none; }` but bootstrap.min.css set `[hidden] { display: none !important; }` so we also need the `!important` here to be able to override the default hidden behavior on the sphinx rendered scikit-learn.org. See: https://github.com/scikit-learn/scikit-learn/issues/21755 */display: inline-block !important;position: relative;}#sk-container-id-4 div.sk-text-repr-fallback {display: none;}</style><div id=\"sk-container-id-4\" class=\"sk-top-container\"><div class=\"sk-text-repr-fallback\"><pre>LinearRegression()</pre><b>In a Jupyter environment, please rerun this cell to show the HTML representation or trust the notebook. <br />On GitHub, the HTML representation is unable to render, please try loading this page with nbviewer.org.</b></div><div class=\"sk-container\" hidden><div class=\"sk-item\"><div class=\"sk-estimator sk-toggleable\"><input class=\"sk-toggleable__control sk-hidden--visually\" id=\"sk-estimator-id-4\" type=\"checkbox\" checked><label for=\"sk-estimator-id-4\" class=\"sk-toggleable__label sk-toggleable__label-arrow\">LinearRegression</label><div class=\"sk-toggleable__content\"><pre>LinearRegression()</pre></div></div></div></div></div>"
      ],
      "text/plain": [
       "LinearRegression()"
      ]
     },
     "execution_count": 97,
     "metadata": {},
     "output_type": "execute_result"
    }
   ],
   "source": [
    "poly_reg_model = LinearRegression()\n",
    "poly_reg_model.fit(x, y_pred)\n"
   ]
  },
  {
   "cell_type": "code",
   "execution_count": 98,
   "metadata": {},
   "outputs": [
    {
     "data": {
      "text/plain": [
       "0.0840475627708661"
      ]
     },
     "execution_count": 98,
     "metadata": {},
     "output_type": "execute_result"
    }
   ],
   "source": [
    "poly_reg_rmse = np.sqrt(mean_squared_error(y, y_pred))\n",
    "poly_reg_rmse"
   ]
  },
  {
   "cell_type": "code",
   "execution_count": 101,
   "metadata": {},
   "outputs": [
    {
     "data": {
      "text/plain": [
       "1.0"
      ]
     },
     "execution_count": 101,
     "metadata": {},
     "output_type": "execute_result"
    }
   ],
   "source": [
    "np.linalg.cond(pcov)"
   ]
  },
  {
   "cell_type": "markdown",
   "metadata": {},
   "source": [
    "BENCH: Found 1x7 STNU, N: 30, K: 36\n",
    "BENCH: Found 1x1 STNU, N: 6, K: 6\n",
    "BENCH: Found 6x1 STNU, N: 26, K: 26\n",
    "BENCH: Found 1x5 STNU, N: 22, K: 26\n",
    "BENCH: Found 2x1 STNU, N: 10, K: 10\n",
    "BENCH: Found 3x1 STNU, N: 14, K: 14\n",
    "BENCH: Found 4x2 STNU, N: 34, K: 38\n",
    "BENCH: Found 2x5 STNU, N: 42, K: 50\n",
    "BENCH: Found 8x1 STNU, N: 34, K: 34\n",
    "BENCH: Found 1x6 STNU, N: 26, K: 31\n",
    "BENCH: Found 1x2 STNU, N: 10, K: 11\n",
    "BENCH: Found 1x3 STNU, N: 14, K: 16\n",
    "BENCH: Found 5x1 STNU, N: 22, K: 22\n",
    "BENCH: Found 3x3 STNU, N: 38, K: 44\n",
    "BENCH: Found 4x4 STNU, N: 66, K: 78\n",
    "BENCH: Found 2x6 STNU, N: 50, K: 60\n",
    "BENCH: Found 4x1 STNU, N: 18, K: 18\n",
    "BENCH: Found 2x2 STNU, N: 18, K: 20\n",
    "BENCH: Found 2x4 STNU, N: 34, K: 40\n",
    "BENCH: Found 5x3 STNU, N: 62, K: 72\n",
    "BENCH: Found 3x4 STNU, N: 50, K: 59\n",
    "BENCH: Found 4x3 STNU, N: 50, K: 58\n",
    "BENCH: Found 1x8 STNU, N: 34, K: 41\n",
    "BENCH: Found 4x5 STNU, N: 82, K: 98\n",
    "BENCH: Found 2x3 STNU, N: 26, K: 30\n",
    "BENCH: Found 3x2 STNU, N: 26, K: 29\n",
    "BENCH: Found 1x4 STNU, N: 18, K: 21\n",
    "BENCH: Found 5x2 STNU, N: 42, K: 47\n",
    "BENCH: Found 7x2 STNU, N: 58, K: 65\n",
    "BENCH: Found 3x5 STNU, N: 62, K: 74\n",
    "BENCH: Found 4x6 STNU, N: 98, K: 118\n",
    "BENCH: Found 8x2 STNU, N: 66, K: 74\n",
    "BENCH: Found 5x4 STNU, N: 82, K: 97\n",
    "BENCH: Found 7x1 STNU, N: 30, K: 30\n",
    "BENCH: Found 6x2 STNU, N: 50, K: 56\n",
    "BENCH: Found 6x3 STNU, N: 74, K: 86\n",
    "BENCH: Found 2x7 STNU, N: 58, K: 70\n",
    "BENCH: Found 6x4 STNU, N: 98, K: 116\n",
    "BENCH: Found 8x3 STNU, N: 98, K: 114"
   ]
  }
 ],
 "metadata": {
  "kernelspec": {
   "display_name": ".venv",
   "language": "python",
   "name": "python3"
  },
  "language_info": {
   "codemirror_mode": {
    "name": "ipython",
    "version": 3
   },
   "file_extension": ".py",
   "mimetype": "text/x-python",
   "name": "python",
   "nbconvert_exporter": "python",
   "pygments_lexer": "ipython3",
   "version": "3.10.11"
  },
  "orig_nbformat": 4
 },
 "nbformat": 4,
 "nbformat_minor": 2
}
